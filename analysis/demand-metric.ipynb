{
 "cells": [
  {
   "cell_type": "markdown",
   "source": [
    "# Theodolite Analysis - Demand Metric\n",
    "\n",
    "This notebook applies Theodolite's *demand* metric to describe scalability of a SUT based on Theodolite measurement data.\n",
    "\n",
    "Theodolite's *demand* metric is a function, mapping load intensities to the minimum required resources (e.g., instances) that are required to process this load. With this notebook, the *demand* metric function is approximated by a map of tested load intensities to their minimum required resources.\n",
    "\n",
    "The final output when running this notebook will be a CSV file, providig this mapping. It can be used to create nice plots of a system's scalability using the `demand-metric-plot.ipynb` notebook."
   ],
   "metadata": {}
  },
  {
   "cell_type": "markdown",
   "source": [
    "In the following cell, we need to specifiy:\n",
    "\n",
    "* `exp_id`: The experiment id  that is to be analyzed.\n",
    "* `warmup_sec`: The number of seconds which are to be ignored in the beginning of each experiment.\n",
    "* `max_lag_trend_slope`: The maximum tolerable increase in queued messages per second.\n",
    "* `measurement_dir`: The directory where the measurement data files are to be found.\n",
    "* `results_dir`: The directory where the computed demand CSV files are to be stored."
   ],
   "metadata": {}
  },
  {
   "cell_type": "code",
   "execution_count": 1,
   "source": [
    "exp_id = 200\n",
    "warmup_sec = 60\n",
    "max_lag_trend_slope = 2000\n",
    "measurement_dir = '<path-to>/measurements'\n",
    "results_dir = '<path-to>/results'\n"
   ],
   "outputs": [],
   "metadata": {}
  },
  {
   "cell_type": "markdown",
   "source": [
    "With the following call, we compute our demand mapping."
   ],
   "metadata": {}
  },
  {
   "cell_type": "code",
   "execution_count": 2,
   "source": [
    "from src.demand import demand\n",
    "\n",
    "demand = demand(exp_id, measurement_dir, max_lag_trend_slope, warmup_sec)"
   ],
   "outputs": [],
   "metadata": {}
  },
  {
   "cell_type": "markdown",
   "source": [
    "We might already want to plot a simple visualization here:"
   ],
   "metadata": {}
  },
  {
   "cell_type": "code",
   "execution_count": 3,
   "source": [
    "demand.plot(kind='line',x='load',y='resources')"
   ],
   "outputs": [
    {
     "output_type": "execute_result",
     "data": {
      "text/plain": [
       "<matplotlib.axes._subplots.AxesSubplot at 0x7f58e20d8c10>"
      ]
     },
     "metadata": {},
     "execution_count": 3
    },
    {
     "output_type": "display_data",
     "data": {
      "image/png": "[encoded data removed]",
      "text/plain": [
       "<Figure size 432x288 with 1 Axes>"
      ]
     },
     "metadata": {
      "needs_background": "light"
     }
    }
   ],
   "metadata": {}
  },
  {
   "cell_type": "markdown",
   "source": [
    "Finally we store the results in a CSV file."
   ],
   "metadata": {}
  },
  {
   "cell_type": "code",
   "execution_count": 4,
   "source": [
    "import os\n",
    "\n",
    "demand.to_csv(os.path.join(results_dir, f'exp{exp_id}_demand.csv'), index=False)"
   ],
   "outputs": [],
   "metadata": {}
  }
 ],
 "metadata": {
  "language_info": {
   "name": "python",
   "version": "3.7.12",
   "mimetype": "text/x-python",
   "codemirror_mode": {
    "name": "ipython",
    "version": 3
   },
   "pygments_lexer": "ipython3",
   "nbconvert_exporter": "python",
   "file_extension": ".py"
  },
  "orig_nbformat": 2,
  "file_extension": ".py",
  "mimetype": "text/x-python",
  "name": "python",
  "npconvert_exporter": "python",
  "pygments_lexer": "ipython3",
  "version": 3,
  "kernelspec": {
   "name": "python3",
   "display_name": "Python 3.7.12 64-bit ('theodolite-venv': venv)"
  },
  "interpreter": {
   "hash": "a52a208d39582630a5c8f3f944b955c1bf9503ec3936114be1f708238321db18"
  }
 },
 "nbformat": 4,
 "nbformat_minor": 2
}